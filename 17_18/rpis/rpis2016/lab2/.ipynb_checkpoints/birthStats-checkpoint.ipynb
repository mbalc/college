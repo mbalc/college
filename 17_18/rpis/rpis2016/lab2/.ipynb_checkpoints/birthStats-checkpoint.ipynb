{
 "cells": [
  {
   "cell_type": "code",
   "execution_count": 3,
   "metadata": {},
   "outputs": [
    {
     "data": {
      "image/png": "[encoded data removed]",
      "text/plain": [
       "<matplotlib.figure.Figure at 0x1dbce6ea550>"
      ]
     },
     "metadata": {},
     "output_type": "display_data"
    }
   ],
   "source": [
    "from functools import reduce\n",
    "import math;\n",
    "import matplotlib.pyplot as plt;\n",
    "\n",
    "d = 365;\n",
    "rng = range(60);\n",
    "def p(n): return 1 - reduce(lambda acc, x: acc * (x/d), range(d, d-n, -1), 1);\n",
    "def pa(n): return 1 - math.exp((-n*(n-1))/(2*d));\n",
    "yvals = list(map(p, rng));\n",
    "yavals = list(map(pa, rng));\n",
    "plt.plot(rng, yvals);\n",
    "plt.plot(rng, yavals);\n",
    "plt.show();"
   ]
  },
  {
   "cell_type": "code",
   "execution_count": 46,
   "metadata": {},
   "outputs": [
    {
     "data": {
      "image/png": "[encoded data removed]",
      "text/plain": [
       "<matplotlib.figure.Figure at 0x1bed5c93208>"
      ]
     },
     "metadata": {},
     "output_type": "display_data"
    },
    {
     "name": "stdout",
     "output_type": "stream",
     "text": [
      "[372] Mean: 24.8617\n"
     ]
    }
   ],
   "source": [
    "import random\n",
    "import math;\n",
    "import matplotlib.pyplot as plt;\n",
    "import numpy as np;\n",
    "\n",
    "samplesCount = 10000\n",
    "minDate = 1\n",
    "maxDate = 372\n",
    "\n",
    "def randUntilRepeat(dmin, dmax):\n",
    "    steps = 0\n",
    "    dates = set()\n",
    "    while True:\n",
    "        steps += 1\n",
    "        nextDate = random.randint(dmin, dmax)\n",
    "        if nextDate in dates:\n",
    "            return steps\n",
    "        else:\n",
    "            dates.add(nextDate)\n",
    "            \n",
    "def generateSamples(n, dmin, dmax):\n",
    "    samples = []\n",
    "    for i in range(n):\n",
    "        samples.append(randUntilRepeat(dmin, dmax))\n",
    "    return samples\n",
    "\n",
    "samples = generateSamples(samplesCount, minDate, maxDate)\n",
    "\n",
    "plt.hist(samples, bins=range(min(samples),max(samples)))\n",
    "plt.show()\n",
    "\n",
    "print(\"[\"+str(maxDate)+\"] Mean: \"+str(np.mean(samples)))"
   ]
  },
  {
   "cell_type": "code",
   "execution_count": 67,
   "metadata": {},
   "outputs": [
    {
     "data": {
      "image/png": "[encoded data removed]",
      "text/plain": [
       "<matplotlib.figure.Figure at 0x1dbd0996208>"
      ]
     },
     "metadata": {},
     "output_type": "display_data"
    }
   ],
   "source": [
    "import random\n",
    "import math;\n",
    "import matplotlib.pyplot as plt;\n",
    "import numpy as np;\n",
    "\n",
    "txt = np.loadtxt('dates.csv', dtype='int', skiprows=1, delimiter=',')\n",
    "data = txt[:, 2].reshape(12, 31)\n",
    "\n",
    "plt.pcolor(data)\n",
    "plt.show()"
   ]
  },
  {
   "cell_type": "code",
   "execution_count": null,
   "metadata": {},
   "outputs": [],
   "source": [
    "import random\n",
    "import math;\n",
    "import matplotlib.pyplot as plt;\n",
    "import numpy as np;\n",
    "\n",
    "samplesCount = 1000\n",
    "\n",
    "txt = np.loadtxt('dates.csv', dtype='int', skiprows=1, delimiter=',')\n",
    "data = txt[:, 2].reshape(12*31)\n",
    "propsData = [];\n",
    "dataSum = sum(data)\n",
    "propsData = list(map(lambda x: data/dataSum, data))\n",
    "binData = np.cumsum(propsData)\n",
    "\n",
    "def randomDate():\n",
    "    a = np.histogram(np.random.rand(2), bins=binData)\n",
    "    fi = np.where(a[0] != 0)[0]\n",
    "    return fi[0]+1\n",
    "    \n",
    "    \n",
    "def randUntilRepeat():\n",
    "    steps = 0\n",
    "    dates = set()\n",
    "    while True:\n",
    "        steps += 1\n",
    "        nextDate = randomDate()\n",
    "        if nextDate in dates:\n",
    "            return steps\n",
    "        else:\n",
    "            dates.add(nextDate)\n",
    "            \n",
    "def generateSamples(n):\n",
    "    samples = []\n",
    "    for i in range(n):\n",
    "        samples.append(randUntilRepeat())\n",
    "    return samples\n",
    "\n",
    "samples = generateSamples(samplesCount)\n",
    "\n",
    "plt.hist(samples, bins=range(min(samples),max(samples)))\n",
    "plt.show()\n",
    "\n",
    "print(\"Mean: \"+str(np.mean(samples)))"
   ]
  },
  {
   "cell_type": "code",
   "execution_count": 9,
   "metadata": {
    "scrolled": true
   },
   "outputs": [
    {
     "data": {
      "image/png": "[encoded data removed]",
      "text/plain": [
       "<matplotlib.figure.Figure at 0x7f846ede5f60>"
      ]
     },
     "metadata": {},
     "output_type": "display_data"
    },
    {
     "name": "stdout",
     "output_type": "stream",
     "text": [
      "[372] Mean: 24.65377\n"
     ]
    }
   ],
   "source": [
    "import random\n",
    "import math;\n",
    "import matplotlib.pyplot as plt;\n",
    "import numpy as np;\n",
    "\n",
    "samplesCount = 100000\n",
    "\n",
    "txt = np.loadtxt('us_births_69_88.csv', dtype='int', skiprows=1, delimiter=',')\n",
    "sumData = np.sum(txt[:, 2])\n",
    "data = txt[:, 2] / sumData\n",
    "dataSize = data.size\n",
    "\n",
    "\n",
    "p = data\n",
    "puni = 1 / (12*31)\n",
    "pmax = np.max(p)\n",
    "\n",
    "\n",
    "        \n",
    "def randUntilRepeat():\n",
    "    steps = 0\n",
    "    dates = set()\n",
    "    while True:\n",
    "        steps += 1\n",
    "        nextDate = randData()\n",
    "        if nextDate in dates:\n",
    "            return steps\n",
    "        else:\n",
    "            dates.add(nextDate)\n",
    "        \n",
    "def generateSamples(n):\n",
    "    samples = []\n",
    "    for i in range(n):\n",
    "        samples.append(randUntilRepeat())\n",
    "    return samples\n",
    "\n",
    "\n",
    "samples = generateSamples(samplesCount)\n",
    "# print(samples)\n",
    "plt.hist(samples, bins=range(min(samples),max(samples)))\n",
    "plt.show()\n",
    "print(\"[\"+str(dataSize)+\"] Mean: \"+str(np.mean(samples)))"
   ]
  },
  {
   "cell_type": "code",
   "execution_count": 3,
   "metadata": {},
   "outputs": [
    {
     "ename": "IndexError",
     "evalue": "too many indices for array",
     "output_type": "error",
     "traceback": [
      "\u001b[0;31m---------------------------------------------------------------------------\u001b[0m",
      "\u001b[0;31mIndexError\u001b[0m                                Traceback (most recent call last)",
      "\u001b[0;32m<ipython-input-3-c9a3d6f0c6ec>\u001b[0m in \u001b[0;36m<module>\u001b[0;34m()\u001b[0m\n\u001b[1;32m     32\u001b[0m     \u001b[0mpairs\u001b[0m \u001b[0;34m=\u001b[0m \u001b[0mnp\u001b[0m\u001b[0;34m.\u001b[0m\u001b[0mstack\u001b[0m\u001b[0;34m(\u001b[0m\u001b[0;34m(\u001b[0m\u001b[0mdayIndexes\u001b[0m\u001b[0;34m,\u001b[0m \u001b[0mprobabilities\u001b[0m\u001b[0;34m)\u001b[0m\u001b[0;34m,\u001b[0m \u001b[0maxis\u001b[0m\u001b[0;34m=\u001b[0m\u001b[0;34m-\u001b[0m\u001b[0;36m1\u001b[0m\u001b[0;34m)\u001b[0m\u001b[0;34m\u001b[0m\u001b[0m\n\u001b[1;32m     33\u001b[0m \u001b[0;34m\u001b[0m\u001b[0m\n\u001b[0;32m---> 34\u001b[0;31m     \u001b[0mchosen\u001b[0m \u001b[0;34m=\u001b[0m \u001b[0mprobabilities\u001b[0m\u001b[0;34m[\u001b[0m\u001b[0mnp\u001b[0m\u001b[0;34m.\u001b[0m\u001b[0mrandom\u001b[0m\u001b[0;34m.\u001b[0m\u001b[0mchoice\u001b[0m\u001b[0;34m(\u001b[0m\u001b[0mprobabilities\u001b[0m\u001b[0;34m.\u001b[0m\u001b[0mshape\u001b[0m\u001b[0;34m[\u001b[0m\u001b[0;36m0\u001b[0m\u001b[0;34m]\u001b[0m\u001b[0;34m,\u001b[0m \u001b[0mbulkBirthCount\u001b[0m\u001b[0;34m)\u001b[0m\u001b[0;34m,\u001b[0m \u001b[0;34m:\u001b[0m\u001b[0;34m]\u001b[0m\u001b[0;34m\u001b[0m\u001b[0m\n\u001b[0m\u001b[1;32m     35\u001b[0m     \u001b[0msuccessRate\u001b[0m \u001b[0;34m=\u001b[0m \u001b[0mnp\u001b[0m\u001b[0;34m.\u001b[0m\u001b[0mrandom\u001b[0m\u001b[0;34m.\u001b[0m\u001b[0mrandom\u001b[0m\u001b[0;34m(\u001b[0m\u001b[0mbulkBirthCount\u001b[0m\u001b[0;34m)\u001b[0m\u001b[0;34m;\u001b[0m\u001b[0;34m\u001b[0m\u001b[0m\n\u001b[1;32m     36\u001b[0m \u001b[0;34m\u001b[0m\u001b[0m\n",
      "\u001b[0;31mIndexError\u001b[0m: too many indices for array"
     ]
    }
   ],
   "source": [
    "import random\n",
    "import math;\n",
    "import matplotlib.pyplot as plt;\n",
    "import numpy as np;\n",
    "\n",
    "testCount = 500000\n",
    "bulkBirthMultiplier = 30 # we generate [this] times testCount births\n",
    "enableRealData = True\n",
    "enableBulk = True\n",
    "\n",
    "\n",
    "if enableRealData:\n",
    "    dayIndexLimit = 372\n",
    "    \n",
    "    txt = np.loadtxt('us_births_69_88.csv', dtype='int', skiprows=1, delimiter=',')\n",
    "    probs = txt[:, 2]\n",
    "\n",
    "else :\n",
    "    dayIndexLimit = 366\n",
    "    \n",
    "    probs = np.ones(dayIndexLimit)\n",
    "    probs[60] *= 0.2425  # we multiply 29th February birth probability\n",
    "                         # by leap year probability\n",
    "    \n",
    "totalProbs = probs / np.sum(probs)\n",
    "maxProbability = np.max(totalProbs)\n",
    "probabilities = totalProbs / maxProbability\n",
    "\n",
    "if enableBulk:\n",
    "    bulkBirthCount = testCount * bulkBirthMultiplier\n",
    "    dayIndexes = np.arange(0, dayIndexLimit)\n",
    "    pairs = np.stack((dayIndexes, probabilities), axis=-1)\n",
    "    \n",
    "    chosen = probabilities[np.random.choice(probabilities.shape[0], bulkBirthCount), :]\n",
    "    successRate = np.random.random(bulkBirthCount);\n",
    "    \n",
    "    births = (chosen[chosen[:, 2] > successRate])[:, 0]\n",
    "\n",
    "    iter = 0;\n",
    "\n",
    "\n",
    "def randData(): # non-bulk, online birth generator\n",
    "    while True:\n",
    "        rand = random.randint(0, dayIndexLimit - 1)\n",
    "        if np.random.uniform(0, 1) < probabilities[rand] / maxProbability:\n",
    "            return rand\n",
    "\n",
    "        \n",
    "def findFirstBirthRepetition():\n",
    "    birthCount = 0\n",
    "    birthDates = set()\n",
    "    while True:\n",
    "        birthCount += 1\n",
    "        if enableBulk:\n",
    "            global iter\n",
    "            nextDate = births[iter]\n",
    "            iter += 1\n",
    "            \n",
    "        else:\n",
    "            nextDate = randData()\n",
    "            \n",
    "        if nextDate in birthDates:\n",
    "            return birthCount\n",
    "        else:\n",
    "            birthDates.add(nextDate)\n",
    "        \n",
    "def generateResults(n):\n",
    "    testResults = []\n",
    "    for i in range(n):\n",
    "        testResults.append(findFirstBirthRepetition())\n",
    "    return testResults\n",
    "\n",
    "\n",
    "results = generateResults(testCount)\n",
    "# print(results)\n",
    "plt.hist(results, bins=range(min(results),max(results)))\n",
    "plt.show()\n",
    "print(\"Mean: \"+str(np.mean(results)))"
   ]
  },
  {
   "cell_type": "code",
   "execution_count": null,
   "metadata": {},
   "outputs": [],
   "source": []
  }
 ],
 "metadata": {
  "kernelspec": {
   "display_name": "Python 3",
   "language": "python",
   "name": "python3"
  },
  "language_info": {
   "codemirror_mode": {
    "name": "ipython",
    "version": 3
   },
   "file_extension": ".py",
   "mimetype": "text/x-python",
   "name": "python",
   "nbconvert_exporter": "python",
   "pygments_lexer": "ipython3",
   "version": "3.6.3"
  }
 },
 "nbformat": 4,
 "nbformat_minor": 2
}
