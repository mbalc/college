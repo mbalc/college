{
 "cells": [
  {
   "cell_type": "code",
   "execution_count": 50,
   "metadata": {},
   "outputs": [
    {
     "data": {
      "text/plain": [
       "1.0"
      ]
     },
     "execution_count": 50,
     "metadata": {},
     "output_type": "execute_result"
    }
   ],
   "source": [
    "import math;\n",
    "math.exp(0)"
   ]
  },
  {
   "cell_type": "code",
   "execution_count": 93,
   "metadata": {
    "scrolled": true
   },
   "outputs": [
    {
     "name": "stdout",
     "output_type": "stream",
     "text": [
      "0.6656663023886727\n"
     ]
    }
   ],
   "source": [
    "import random; \n",
    "print (random.random())"
   ]
  },
  {
   "cell_type": "code",
   "execution_count": 81,
   "metadata": {},
   "outputs": [
    {
     "data": {
      "image/png": "[encoded data removed]",
      "text/plain": [
       "<matplotlib.figure.Figure at 0x7fc894ec5ef0>"
      ]
     },
     "metadata": {},
     "output_type": "display_data"
    }
   ],
   "source": [
    "import math;\n",
    "import matplotlib.pyplot as plt;\n",
    "from functools import reduce;\n",
    "\n",
    "d = 365;\n",
    "rng = range(60);\n",
    "def p(n): return 1 - reduce(lambda acc, x: acc * (x/d), range(d, d-n, -1), 1);\n",
    "def pa(n): return 1 - math.exp((-n*(n-1))/(2*d));\n",
    "yvals = list(map(p, rng));\n",
    "yavals = [pa(n) for n in rng];\n",
    "plt.plot(rng, yvals);\n",
    "plt.plot(rng, yavals);\n",
    "plt.show();"
   ]
  },
  {
   "cell_type": "code",
   "execution_count": 136,
   "metadata": {},
   "outputs": [
    {
     "name": "stdout",
     "output_type": "stream",
     "text": [
      "23.6059\n"
     ]
    }
   ],
   "source": [
    "def r():\n",
    "    ppl = set();\n",
    "    n = 0;\n",
    "    while True:\n",
    "        y = random.randint(0, 365);\n",
    "        if (y in ppl): \n",
    "            return n;\n",
    "        n+=1;\n",
    "        ppl.add(y);\n",
    "    return n;\n",
    "\n",
    "const = 100000;\n",
    "\n",
    "print(reduce(lambda x, y: x + r(), range(const))/const)"
   ]
  }
 ],
 "metadata": {
  "kernelspec": {
   "display_name": "Python 3",
   "language": "python",
   "name": "python3"
  },
  "language_info": {
   "codemirror_mode": {
    "name": "ipython",
    "version": 3
   },
   "file_extension": ".py",
   "mimetype": "text/x-python",
   "name": "python",
   "nbconvert_exporter": "python",
   "pygments_lexer": "ipython3",
   "version": "3.5.2"
  }
 },
 "nbformat": 4,
 "nbformat_minor": 2
}
