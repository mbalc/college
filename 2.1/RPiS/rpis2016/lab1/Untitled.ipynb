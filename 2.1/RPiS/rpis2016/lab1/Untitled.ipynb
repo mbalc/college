{
 "cells": [
  {
   "cell_type": "code",
   "execution_count": 1,
   "metadata": {},
   "outputs": [
    {
     "data": {
      "text/plain": [
       "1.0"
      ]
     },
     "execution_count": 1,
     "metadata": {},
     "output_type": "execute_result"
    }
   ],
   "source": [
    "import math;\n",
    "math.exp(0)"
   ]
  },
  {
   "cell_type": "code",
   "execution_count": 2,
   "metadata": {
    "scrolled": true
   },
   "outputs": [
    {
     "name": "stdout",
     "output_type": "stream",
     "text": [
      "0.3897370575878849\n"
     ]
    }
   ],
   "source": [
    "import random; \n",
    "print (random.random())"
   ]
  },
  {
   "cell_type": "code",
   "execution_count": 3,
   "metadata": {},
   "outputs": [
    {
     "data": {
      "image/png": "[encoded data removed]",
      "text/plain": [
       "<matplotlib.figure.Figure at 0x7fbc600ed358>"
      ]
     },
     "metadata": {},
     "output_type": "display_data"
    }
   ],
   "source": [
    "import math;\n",
    "import matplotlib.pyplot as plt;\n",
    "from functools import reduce;\n",
    "\n",
    "d = 365;\n",
    "rng = range(60);\n",
    "def p(n): return 1 - reduce(lambda acc, x: acc * (x/d), range(d, d-n, -1), 1);\n",
    "def pa(n): return 1 - math.exp((-n*(n-1))/(2*d));\n",
    "yvals = list(map(p, rng));\n",
    "yavals = [pa(n) for n in rng];\n",
    "plt.plot(rng, yvals);\n",
    "plt.plot(rng, yavals);\n",
    "plt.show();"
   ]
  },
  {
   "cell_type": "code",
   "execution_count": 10,
   "metadata": {},
   "outputs": [
    {
     "data": {
      "image/png": "[encoded data removed]",
      "text/plain": [
       "<matplotlib.figure.Figure at 0x7fbc4cd62278>"
      ]
     },
     "metadata": {},
     "output_type": "display_data"
    }
   ],
   "source": [
    "def r():\n",
    "    ppl = set();\n",
    "    n = 0;\n",
    "    while True:\n",
    "        y = random.randint(0, 365);\n",
    "        if (y in ppl): \n",
    "            return n;\n",
    "        n+=1;\n",
    "        ppl.add(y);\n",
    "    return n;\n",
    "\n",
    "const = 100000;\n",
    "\n",
    "\n",
    "plt.hist(([r() for elem in range(const)]), bins=range(80))\n",
    "plt.show()"
   ]
  },
  {
   "cell_type": "code",
   "execution_count": 80,
   "metadata": {},
   "outputs": [
    {
     "name": "stdout",
     "output_type": "stream",
     "text": [
      "[  2.27517203e-03   2.41033259e-03   2.55418985e-03   2.59416912e-03\n",
      "   2.61248467e-03   2.64910159e-03   2.67110579e-03   2.62725345e-03\n",
      "   2.57511583e-03   2.60571742e-03   2.65307398e-03   2.66762995e-03\n",
      "   2.68422887e-03   2.73311763e-03   2.68627181e-03   2.64732820e-03\n",
      "   2.64144055e-03   2.67133279e-03   2.68506591e-03   2.70549534e-03\n",
      "   2.71839142e-03   2.69146429e-03   2.64830711e-03   2.64061770e-03\n",
      "   2.66604100e-03   2.67619896e-03   2.69386191e-03   2.70792133e-03\n",
      "   2.66848118e-03   2.63552453e-03   2.60944863e-03   2.64529945e-03\n",
      "   2.69159197e-03   2.70226068e-03   2.70169319e-03   2.68323577e-03\n",
      "   2.65474806e-03   2.63860313e-03   2.64931440e-03   2.67487956e-03\n",
      "   2.72440675e-03   2.73289064e-03   2.73737377e-03   2.63278642e-03\n",
      "   2.75953403e-03   2.67076530e-03   2.68534965e-03   2.71976757e-03\n",
      "   2.73582737e-03   2.69645815e-03   2.69627372e-03   2.65100266e-03\n",
      "   2.69641559e-03   2.69977793e-03   2.74038143e-03   2.75628518e-03\n",
      "   2.71857585e-03   2.66362919e-03   2.66450879e-03   6.58565470e-04\n",
      "   1.39033641e-06   1.09240718e-06   2.69110961e-03   2.69586229e-03\n",
      "   2.76465557e-03   2.73615368e-03   2.71348268e-03   2.67958968e-03\n",
      "   2.67991599e-03   2.67751837e-03   2.66267865e-03   2.71562493e-03\n",
      "   2.71582355e-03   2.70260117e-03   2.64019209e-03   2.67797235e-03\n",
      "   2.65016562e-03   2.66926147e-03   2.74012606e-03   2.70888606e-03\n",
      "   2.69448614e-03   2.67645433e-03   2.68015717e-03   2.64856248e-03\n",
      "   2.66558701e-03   2.68139145e-03   2.70897118e-03   2.68012879e-03\n",
      "   2.65630864e-03   2.66413992e-03   2.64732820e-03   2.64642023e-03\n",
      "   2.68036997e-03   2.62394785e-03   2.69204596e-03   2.64046164e-03\n",
      "   2.65555672e-03   2.60295094e-03   2.63474424e-03   2.66141600e-03\n",
      "   2.67399996e-03   2.63873082e-03   2.61648543e-03   2.61607401e-03\n",
      "   2.60520668e-03   2.58743024e-03   2.65589722e-03   2.66882167e-03\n",
      "   2.64246203e-03   2.61292447e-03   2.62943826e-03   2.60061006e-03\n",
      "   2.60547624e-03   2.64244784e-03   2.65962842e-03   2.63524079e-03\n",
      "   2.59973046e-03   2.61170438e-03   2.60390147e-03   2.59450961e-03\n",
      "   2.64251877e-03   2.61794671e-03   2.61899655e-03   1.81594959e-06\n",
      "   2.63952529e-03   2.61990453e-03   2.59353070e-03   2.59737540e-03\n",
      "   2.65996891e-03   2.65523042e-03   2.64388074e-03   2.62390529e-03\n",
      "   2.61544978e-03   2.62357899e-03   2.64005022e-03   2.66663685e-03\n",
      "   2.64541294e-03   2.65066217e-03   2.65498924e-03   2.64529945e-03\n",
      "   2.62559356e-03   2.65235044e-03   2.67951875e-03   2.72785422e-03\n",
      "   2.68181706e-03   2.67483700e-03   2.67914988e-03   2.66100457e-03\n",
      "   2.64556900e-03   2.64319976e-03   2.68882549e-03   2.65108779e-03\n",
      "   2.66947428e-03   2.61109433e-03   2.60875346e-03   2.69638722e-03\n",
      "   2.72656319e-03   2.71443322e-03   2.69241483e-03   2.67107742e-03\n",
      "   2.70794971e-03   2.65642214e-03   2.65693287e-03   2.71500070e-03\n",
      "   2.74172921e-03   2.70895699e-03   2.69342211e-03   2.65096010e-03\n",
      "   2.68105095e-03   2.69581973e-03   2.75703710e-03   2.76001639e-03\n",
      "   2.73316020e-03   2.70631819e-03   2.74167246e-03   2.69621697e-03\n",
      "   2.72144165e-03   2.75261072e-03   2.77926829e-03   2.77552289e-03\n",
      "   2.75455435e-03   2.75361800e-03   2.75966171e-03   2.77025948e-03\n",
      "   2.82697953e-03   1.77338827e-06   2.84989171e-03   2.84959378e-03\n",
      "   2.76332198e-03   2.46022865e-03   2.66650917e-03   2.82862523e-03\n",
      "   2.92448751e-03   2.92810522e-03   2.88020955e-03   2.86085834e-03\n",
      "   2.82733421e-03   2.80148530e-03   2.79905930e-03   2.89757457e-03\n",
      "   2.91693997e-03   2.89005540e-03   2.86382344e-03   2.83759148e-03\n",
      "   2.82031159e-03   2.87007996e-03   2.88699099e-03   2.91441466e-03\n",
      "   2.88978585e-03   2.85787905e-03   2.85406271e-03   2.83668351e-03\n",
      "   2.87728701e-03   2.91319457e-03   2.92362210e-03   2.89486483e-03\n",
      "   2.86311409e-03   2.87601017e-03   2.84225904e-03   2.87444959e-03\n",
      "   2.88733148e-03   2.89870954e-03   2.90036943e-03   2.88433800e-03\n",
      "   2.92457263e-03   2.85318311e-03   2.88473524e-03   2.89656728e-03\n",
      "   2.93822063e-03   2.88072029e-03   2.89232534e-03   2.89785831e-03\n",
      "   2.86454699e-03   2.87992581e-03   2.92140891e-03   2.92447332e-03\n",
      "   2.91749327e-03   2.88406844e-03   2.87081769e-03   2.84142200e-03\n",
      "   2.85739668e-03   2.89852511e-03   2.93247485e-03   2.90818652e-03\n",
      "   2.89404198e-03   2.87260526e-03   2.85322568e-03   2.86502935e-03\n",
      "   2.78539712e-03   2.82720652e-03   2.83964861e-03   2.84502553e-03\n",
      "   2.81165745e-03   2.81188445e-03   2.83483919e-03   2.93132570e-03\n",
      "   2.98689659e-03   2.95914661e-03   2.92365047e-03   2.92868689e-03\n",
      "   2.87934414e-03   2.95334408e-03   2.98232834e-03   3.02064772e-03\n",
      "   2.99721062e-03   2.97740542e-03   2.98581837e-03   2.97831339e-03\n",
      "   2.99172021e-03   3.01721444e-03   3.01925738e-03   2.99861514e-03\n",
      "   2.97361746e-03   2.97966117e-03   2.94532837e-03   2.93301396e-03\n",
      "   2.96160098e-03   2.96497751e-03   2.85160835e-06   2.93237554e-03\n",
      "   2.89622679e-03   2.87565549e-03   2.84035797e-03   2.85165091e-03\n",
      "   2.86471723e-03   2.85109761e-03   2.83167546e-03   2.80645079e-03\n",
      "   2.82378743e-03   2.75478135e-03   2.77694161e-03   2.76130741e-03\n",
      "   2.79999565e-03   2.79171038e-03   2.74006932e-03   2.73462147e-03\n",
      "   2.69647234e-03   2.71419203e-03   2.74255206e-03   2.75949146e-03\n",
      "   2.72974110e-03   2.69867134e-03   2.70052985e-03   2.69234389e-03\n",
      "   2.71714295e-03   2.73604018e-03   2.73873573e-03   2.71006359e-03\n",
      "   2.69274113e-03   2.64606555e-03   2.68408700e-03   2.68258316e-03\n",
      "   2.73628136e-03   2.75195811e-03   2.72850682e-03   2.70035961e-03\n",
      "   2.71437647e-03   2.69711076e-03   2.71491558e-03   2.74452407e-03\n",
      "   2.74963143e-03   2.71883122e-03   2.68580364e-03   2.71379480e-03\n",
      "   2.69641559e-03   2.70942517e-03   2.74798572e-03   2.76098111e-03\n",
      "   2.74910650e-03   2.73491940e-03   2.72439256e-03   2.61150576e-03\n",
      "   2.63917062e-03   2.63717024e-03   2.63868826e-03   2.60319212e-03\n",
      "   2.56023356e-03   2.60519250e-03   2.65396777e-03   2.70433200e-03\n",
      "   3.05022783e-06   2.74463756e-03   2.74111916e-03   2.70037379e-03\n",
      "   2.67780211e-03   2.68685348e-03   2.65755711e-03   2.66963033e-03\n",
      "   2.72608083e-03   2.72042017e-03   2.71559656e-03   2.68902411e-03\n",
      "   2.71898728e-03   2.65393939e-03   2.71944126e-03   2.79247649e-03\n",
      "   2.81931849e-03   2.80995500e-03   2.80131505e-03   2.81638176e-03\n",
      "   2.76763486e-03   2.73306089e-03   2.64556900e-03   2.53476770e-03\n",
      "   2.34158188e-03   2.18166482e-03   2.48758139e-03   2.75238372e-03\n",
      "   2.86250404e-03   2.90560447e-03   2.93522715e-03   2.75751946e-03]\n"
     ]
    }
   ],
   "source": [
    "stats = np.loadtxt('us_births_69_88.csv', dtype=int, delimiter=',', skiprows=1)   \n",
    "numpy.set_printoptions(threshold=numpy.nan)\n",
    "\n",
    "D = stats.shape[0]\n",
    "p = stats[:,2] / np.sum(stats[:,2])\n",
    "\n",
    "const = 100000;\n",
    "\n",
    "def randDay():\n",
    "    while True:\n",
    "        i = random.rand //i = sample_from_blackbox\n",
    "                        //if uniform[0,1) < p_i / q_i(1+e) return i\n",
    "\n",
    "def randK():\n",
    "    while True:\n",
    "        day = randDay()\n",
    "        if day in s:\n",
    "            return len(s)\n",
    "        s.add(day)\n",
    "        \n",
    "empSample = [randK() for i in ]\n",
    "\n",
    "s = [randK() for i in range(100)]\n",
    "s = np.array(s)\n",
    "b = s <= 23"
   ]
  },
  {
   "cell_type": "code",
   "execution_count": null,
   "metadata": {},
   "outputs": [],
   "source": []
  }
 ],
 "metadata": {
  "kernelspec": {
   "display_name": "Python 3",
   "language": "python",
   "name": "python3"
  },
  "language_info": {
   "codemirror_mode": {
    "name": "ipython",
    "version": 3
   },
   "file_extension": ".py",
   "mimetype": "text/x-python",
   "name": "python",
   "nbconvert_exporter": "python",
   "pygments_lexer": "ipython3",
   "version": "3.6.3"
  }
 },
 "nbformat": 4,
 "nbformat_minor": 2
}
